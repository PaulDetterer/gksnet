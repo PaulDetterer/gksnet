{
 "cells": [
  {
   "cell_type": "markdown",
   "metadata": {},
   "source": [
    "# Download Dataset"
   ]
  },
  {
   "cell_type": "code",
   "execution_count": 1,
   "metadata": {},
   "outputs": [
    {
     "data": {
      "text/plain": [
       "8×800 OneHotMatrix(::Vector{UInt32}) with eltype Bool:\n",
       " ⋅  ⋅  ⋅  ⋅  ⋅  1  ⋅  ⋅  ⋅  ⋅  ⋅  ⋅  ⋅  …  ⋅  ⋅  1  ⋅  ⋅  ⋅  ⋅  ⋅  ⋅  ⋅  ⋅  ⋅\n",
       " ⋅  ⋅  ⋅  ⋅  ⋅  ⋅  ⋅  ⋅  ⋅  ⋅  ⋅  ⋅  1     ⋅  ⋅  ⋅  ⋅  ⋅  ⋅  ⋅  ⋅  ⋅  ⋅  ⋅  ⋅\n",
       " ⋅  ⋅  ⋅  ⋅  ⋅  ⋅  ⋅  ⋅  ⋅  ⋅  ⋅  ⋅  ⋅     ⋅  ⋅  ⋅  ⋅  ⋅  ⋅  ⋅  1  1  ⋅  ⋅  ⋅\n",
       " ⋅  ⋅  ⋅  1  ⋅  ⋅  1  ⋅  1  ⋅  1  ⋅  ⋅     ⋅  ⋅  ⋅  ⋅  ⋅  ⋅  1  ⋅  ⋅  1  ⋅  ⋅\n",
       " ⋅  1  ⋅  ⋅  1  ⋅  ⋅  1  ⋅  1  ⋅  ⋅  ⋅     1  ⋅  ⋅  ⋅  ⋅  1  ⋅  ⋅  ⋅  ⋅  ⋅  1\n",
       " ⋅  ⋅  ⋅  ⋅  ⋅  ⋅  ⋅  ⋅  ⋅  ⋅  ⋅  ⋅  ⋅  …  ⋅  ⋅  ⋅  1  1  ⋅  ⋅  ⋅  ⋅  ⋅  ⋅  ⋅\n",
       " 1  ⋅  ⋅  ⋅  ⋅  ⋅  ⋅  ⋅  ⋅  ⋅  ⋅  1  ⋅     ⋅  ⋅  ⋅  ⋅  ⋅  ⋅  ⋅  ⋅  ⋅  ⋅  ⋅  ⋅\n",
       " ⋅  ⋅  1  ⋅  ⋅  ⋅  ⋅  ⋅  ⋅  ⋅  ⋅  ⋅  ⋅     ⋅  1  ⋅  ⋅  ⋅  ⋅  ⋅  ⋅  ⋅  ⋅  1  ⋅"
      ]
     },
     "metadata": {},
     "output_type": "display_data"
    }
   ],
   "source": [
    "using NPZ\n",
    "using Flux\n",
    "train_ds_x = permutedims(npzread(\"../dataset/TF/train_x.npy\"),[2,3,4,1])\n",
    "# train_ds_orig_x = permutedims(npzread(\"../dataset/TF/train_x.npy\"),[2,3,4,1])\n",
    "train_ds_y = hcat([Flux.onehot(idx,0:7) for idx=npzread(\"../dataset/TF/train_y.npy\")]...)\n",
    "val_ds_x = permutedims(npzread(\"../dataset/TF/val_x.npy\"),[2,3,4,1])\n",
    "val_ds_y = hcat([Flux.onehot(idx,0:7) for idx=npzread(\"../dataset/TF/val_y.npy\")]...)\n"
   ]
  },
  {
   "cell_type": "code",
   "execution_count": 2,
   "metadata": {},
   "outputs": [
    {
     "data": {
      "text/plain": [
       "0.76747113f0"
      ]
     },
     "metadata": {},
     "output_type": "display_data"
    }
   ],
   "source": [
    "using Statistics\n",
    "# Compute mean \n",
    "ds_mean =  mean(train_ds_x)\n",
    "ds_sqrt_var = sqrt(var(train_ds_x))"
   ]
  },
  {
   "cell_type": "code",
   "execution_count": 3,
   "metadata": {},
   "outputs": [
    {
     "data": {
      "text/plain": [
       "MLUtils.DataLoader{Tuple{Array{Float32, 4}, Flux.OneHotArray{UInt32, 8, 1, 2, Vector{UInt32}}}, Random._GLOBAL_RNG, Val{nothing}}(([0.005956173 0.012404119 … 6.2214305f-5 0.00013177958; 0.0021701786 0.015968 … 3.723193f-5 7.755589f-6; … ; 0.006898921 0.035660375 … 6.542493f-5 7.087481f-5; 0.012738511 0.030686239 … 5.143952f-5 7.6339114f-5;;;; 0.21398869 0.22579263 … 4.8694346f-5 7.811189f-5; 0.30852592 0.18149962 … 5.682248f-5 4.3034554f-5; … ; 0.0 0.0 … 0.0 0.0; 0.0 0.0 … 0.0 0.0;;;; 0.0029731644 0.081075326 … 6.289727f-5 7.9883495f-5; 0.015109962 0.048517507 … 9.040684f-5 1.857942f-5; … ; 0.0 0.0 … 0.0 0.0; 0.0 0.0 … 0.0 0.0;;;; … ;;;; 0.0023676283 0.0038272867 … 5.4099914f-5 4.6927482f-5; 0.003977077 0.0033666817 … 5.9143527f-5 4.938268f-5; … ; 0.0009947252 0.008146661 … 0.00013018295 7.9826044f-5; 0.00020582468 0.002836615 … 0.00014470241 0.00017577963;;;; 0.0010776172 0.00031317244 … 0.00017337126 0.00018267008; 0.0011409046 0.00097584416 … 9.5102405f-5 0.00012270035; … ; 0.000920848 0.0010021388 … 0.00019582287 1.2034521f-5; 0.0007093712 0.0008777853 … 1.4653796f-5 5.6784018f-5;;;; 0.002217772 0.0038836938 … 0.00011098068 8.284673f-5; 0.013871492 0.032648385 … 3.416737f-5 8.3885156f-5; … ; 0.0003310483 0.001846179 … 7.877642f-5 5.824273f-5; 0.0003507355 0.0015426023 … 9.531558f-5 9.0507165f-5], Bool[0 0 … 0 0; 0 0 … 0 0; … ; 1 0 … 0 0; 0 0 … 1 0]), 64, false, true, false, false, Val{nothing}(), Random._GLOBAL_RNG())"
      ]
     },
     "metadata": {},
     "output_type": "display_data"
    }
   ],
   "source": [
    "# Use the DataLoader\n",
    "trainingData = Flux.DataLoader((train_ds_x, train_ds_y), batchsize=64,shuffle=true)\n",
    "valData = Flux.DataLoader((val_ds_x, val_ds_y), batchsize=64)"
   ]
  },
  {
   "cell_type": "code",
   "execution_count": 5,
   "metadata": {},
   "outputs": [
    {
     "data": {
      "text/plain": [
       "8×1 Matrix{Float32}:\n",
       "  0.02195992\n",
       "  0.035274234\n",
       " -0.012831309\n",
       " -0.016803723\n",
       " -0.043840878\n",
       " -0.030042108\n",
       "  0.03075295\n",
       " -0.07204841"
      ]
     },
     "metadata": {},
     "output_type": "display_data"
    }
   ],
   "source": [
    "# Model Definition\n",
    "\n",
    "model = Chain(\n",
    "    Upsample(:bilinear,size=(32,32)),\n",
    "    x->(x .- ds_mean) ./ ds_sqrt_var,\n",
    "    Conv((3,3),1=>32, Flux.relu),\n",
    "    Conv((3,3),32=>64, Flux.relu),\n",
    "    MaxPool((2,2)),\n",
    "    Dropout(0.25),\n",
    "    Flux.flatten,\n",
    "    Dense(12544=>128,relu),\n",
    "    Dropout(0.5),\n",
    "    Dense(128=>8),\n",
    ")\n",
    "# Checking \n",
    "model(train_ds_x[:,:,:,1:1])"
   ]
  },
  {
   "cell_type": "code",
   "execution_count": 6,
   "metadata": {},
   "outputs": [
    {
     "data": {
      "text/plain": [
       "loss_tot (generic function with 1 method)"
      ]
     },
     "metadata": {},
     "output_type": "display_data"
    }
   ],
   "source": [
    "# Loss Function\n",
    "function loss(x,y)\n",
    "    ŷ = model(x)\n",
    "    Flux.Losses.logitcrossentropy(ŷ,y)\n",
    "end\n",
    "\n",
    "# Check Accuracy\n",
    "function getAccuracy(m,d)\n",
    "    acc = 0\n",
    "    for (x,y)=d\n",
    "        ŷ = model(x)\n",
    "        acc += sum(Flux.onecold(ŷ) .== Flux.onecold(y)) / size(x)[end]\n",
    "    end\n",
    "    acc/length(d)\n",
    "end\n",
    "\n",
    "# Total Loss\n",
    "function loss_tot(d)\n",
    "    l = 0\n",
    "    for (x,y) = d\n",
    "        l+= loss(x,y)\n",
    "    end\n",
    "    return l/length(d)\n",
    "end"
   ]
  },
  {
   "cell_type": "code",
   "execution_count": 7,
   "metadata": {},
   "outputs": [
    {
     "name": "stdout",
     "output_type": "stream",
     "text": [
      "getAccuracy(model, valData) = 0.15264423076923078"
     ]
    },
    {
     "name": "stdout",
     "output_type": "stream",
     "text": [
      "\n"
     ]
    },
    {
     "data": {
      "text/plain": [
       "0.15264423076923078"
      ]
     },
     "metadata": {},
     "output_type": "display_data"
    }
   ],
   "source": [
    "# Goes very slow :''(\n",
    "#@show loss_tot(valData) \n",
    "testmode!(model,true)\n",
    "@show getAccuracy(model,valData)"
   ]
  },
  {
   "cell_type": "code",
   "execution_count": 8,
   "metadata": {},
   "outputs": [
    {
     "name": "stderr",
     "output_type": "stream",
     "text": [
      "┌ Info: Epoch 1\n",
      "└ @ Main C:\\Users\\detter55\\.julia\\packages\\Flux\\js6mP\\src\\optimise\\train.jl:154\n"
     ]
    },
    {
     "name": "stdout",
     "output_type": "stream",
     "text": [
      "Loss: 2.1690462\n"
     ]
    },
    {
     "name": "stdout",
     "output_type": "stream",
     "text": [
      "Loss: 1.6973624\n"
     ]
    },
    {
     "name": "stdout",
     "output_type": "stream",
     "text": [
      "Loss: 1.3927549\n"
     ]
    },
    {
     "name": "stderr",
     "output_type": "stream",
     "text": [
      "┌ Info: Epoch 2\n",
      "└ @ Main C:\\Users\\detter55\\.julia\\packages\\Flux\\js6mP\\src\\optimise\\train.jl:154\n"
     ]
    },
    {
     "name": "stdout",
     "output_type": "stream",
     "text": [
      "Loss: 1.322321\n"
     ]
    },
    {
     "name": "stdout",
     "output_type": "stream",
     "text": [
      "Loss: 1.1268971\n"
     ]
    },
    {
     "name": "stdout",
     "output_type": "stream",
     "text": [
      "Loss: 1.0012279\n"
     ]
    },
    {
     "name": "stderr",
     "output_type": "stream",
     "text": [
      "┌ Info: Epoch 3\n",
      "└ @ Main C:\\Users\\detter55\\.julia\\packages\\Flux\\js6mP\\src\\optimise\\train.jl:154\n"
     ]
    },
    {
     "name": "stdout",
     "output_type": "stream",
     "text": [
      "Loss: 1.0313798\n"
     ]
    },
    {
     "name": "stdout",
     "output_type": "stream",
     "text": [
      "Loss: 0.9523808\n"
     ]
    },
    {
     "name": "stdout",
     "output_type": "stream",
     "text": [
      "Loss: 0.86724734\n"
     ]
    },
    {
     "name": "stderr",
     "output_type": "stream",
     "text": [
      "┌ Info: Epoch 4\n",
      "└ @ Main C:\\Users\\detter55\\.julia\\packages\\Flux\\js6mP\\src\\optimise\\train.jl:154\n"
     ]
    },
    {
     "name": "stdout",
     "output_type": "stream",
     "text": [
      "Loss: 0.8189539"
     ]
    },
    {
     "name": "stdout",
     "output_type": "stream",
     "text": [
      "\n"
     ]
    },
    {
     "name": "stdout",
     "output_type": "stream",
     "text": [
      "Loss: 0.8089893"
     ]
    },
    {
     "name": "stdout",
     "output_type": "stream",
     "text": [
      "\n"
     ]
    },
    {
     "name": "stdout",
     "output_type": "stream",
     "text": [
      "Loss: 0.7528766\n"
     ]
    },
    {
     "name": "stderr",
     "output_type": "stream",
     "text": [
      "┌ Info: Epoch 5\n",
      "└ @ Main C:\\Users\\detter55\\.julia\\packages\\Flux\\js6mP\\src\\optimise\\train.jl:154\n"
     ]
    },
    {
     "name": "stdout",
     "output_type": "stream",
     "text": [
      "Loss: 0.7992706\n"
     ]
    },
    {
     "name": "stdout",
     "output_type": "stream",
     "text": [
      "Loss: 0.71521133\n"
     ]
    },
    {
     "name": "stdout",
     "output_type": "stream",
     "text": [
      "Loss: 0.7421946"
     ]
    },
    {
     "name": "stdout",
     "output_type": "stream",
     "text": [
      "\n"
     ]
    },
    {
     "name": "stderr",
     "output_type": "stream",
     "text": [
      "┌ Info: Epoch 6\n",
      "└ @ Main C:\\Users\\detter55\\.julia\\packages\\Flux\\js6mP\\src\\optimise\\train.jl:154\n"
     ]
    },
    {
     "name": "stdout",
     "output_type": "stream",
     "text": [
      "Loss: 0.7397321\n"
     ]
    },
    {
     "name": "stdout",
     "output_type": "stream",
     "text": [
      "Loss: 0.6302914\n"
     ]
    },
    {
     "name": "stdout",
     "output_type": "stream",
     "text": [
      "Loss: 0.712567\n"
     ]
    },
    {
     "name": "stderr",
     "output_type": "stream",
     "text": [
      "┌ Info: Epoch 7\n",
      "└ @ Main C:\\Users\\detter55\\.julia\\packages\\Flux\\js6mP\\src\\optimise\\train.jl:154\n"
     ]
    },
    {
     "name": "stdout",
     "output_type": "stream",
     "text": [
      "Loss: 0.68665975\n"
     ]
    },
    {
     "name": "stdout",
     "output_type": "stream",
     "text": [
      "Loss: 0.6723712\n"
     ]
    },
    {
     "name": "stdout",
     "output_type": "stream",
     "text": [
      "Loss: 0.6531405"
     ]
    },
    {
     "name": "stdout",
     "output_type": "stream",
     "text": [
      "\n"
     ]
    },
    {
     "name": "stderr",
     "output_type": "stream",
     "text": [
      "┌ Info: Epoch 8\n",
      "└ @ Main C:\\Users\\detter55\\.julia\\packages\\Flux\\js6mP\\src\\optimise\\train.jl:154\n"
     ]
    },
    {
     "name": "stdout",
     "output_type": "stream",
     "text": [
      "Loss: 0.6922295\n"
     ]
    },
    {
     "name": "stdout",
     "output_type": "stream",
     "text": [
      "Loss: 0.6085854\n"
     ]
    },
    {
     "name": "stdout",
     "output_type": "stream",
     "text": [
      "Loss: 0.66324127"
     ]
    },
    {
     "name": "stdout",
     "output_type": "stream",
     "text": [
      "\n"
     ]
    },
    {
     "name": "stderr",
     "output_type": "stream",
     "text": [
      "┌ Info: Epoch 9\n",
      "└ @ Main C:\\Users\\detter55\\.julia\\packages\\Flux\\js6mP\\src\\optimise\\train.jl:154\n"
     ]
    },
    {
     "name": "stdout",
     "output_type": "stream",
     "text": [
      "Loss: 0.6026075\n"
     ]
    },
    {
     "name": "stdout",
     "output_type": "stream",
     "text": [
      "Loss: 0.6459468\n"
     ]
    },
    {
     "name": "stdout",
     "output_type": "stream",
     "text": [
      "Loss: 0.63184035\n"
     ]
    },
    {
     "name": "stderr",
     "output_type": "stream",
     "text": [
      "┌ Info: Epoch 10\n",
      "└ @ Main C:\\Users\\detter55\\.julia\\packages\\Flux\\js6mP\\src\\optimise\\train.jl:154\n"
     ]
    },
    {
     "name": "stdout",
     "output_type": "stream",
     "text": [
      "Loss: 0.69252163\n"
     ]
    },
    {
     "name": "stdout",
     "output_type": "stream",
     "text": [
      "Loss: 0.6282399\n"
     ]
    },
    {
     "name": "stdout",
     "output_type": "stream",
     "text": [
      "Loss: 0.6058708\n"
     ]
    },
    {
     "name": "stdout",
     "output_type": "stream",
     "text": [
      "getAccuracy(model, valData) = 0.8569711538461539\n"
     ]
    },
    {
     "data": {
      "text/plain": [
       "0.8569711538461539"
      ]
     },
     "metadata": {},
     "output_type": "display_data"
    }
   ],
   "source": [
    "# Does not Learn\n",
    "opt = Flux.Optimise.ADAM()\n",
    "ps = Flux.params(model)\n",
    "testmode!(model,false)\n",
    "\n",
    "evalcb() = println(\"Loss: $(loss_tot(valData))\")\n",
    "\n",
    "Flux.@epochs 10 Flux.train!(\n",
    "    loss,\n",
    "    ps,\n",
    "    trainingData,\n",
    "    opt,\n",
    "    cb=Flux.throttle(evalcb,10),\n",
    ")\n",
    "\n",
    "testmode!(model,true)\n",
    "@show getAccuracy(model,valData)\n"
   ]
  },
  {
   "cell_type": "code",
   "execution_count": 10,
   "metadata": {},
   "outputs": [
    {
     "ename": "UndefVarError",
     "evalue": "UndefVarError: compute_source_index_and_lambda not defined",
     "output_type": "error",
     "traceback": [
      "UndefVarError: compute_source_index_and_lambda not defined\n",
      "\n",
      "Stacktrace:\n",
      "  [1] top-level scope\n",
      "    @ :0\n",
      "  [2] eval\n",
      "    @ .\\boot.jl:373 [inlined]\n",
      "  [3] include_string(mapexpr::typeof(REPL.softscope), mod::Module, code::String, filename::String)\n",
      "    @ Base .\\loading.jl:1196\n",
      "  [4] #invokelatest#2\n",
      "    @ .\\essentials.jl:716 [inlined]\n",
      "  [5] invokelatest\n",
      "    @ .\\essentials.jl:714 [inlined]\n",
      "  [6] (::VSCodeServer.var\"#164#165\"{VSCodeServer.NotebookRunCellArguments, String})()\n",
      "    @ VSCodeServer c:\\Users\\detter55\\.vscode\\extensions\\julialang.language-julia-1.6.24\\scripts\\packages\\VSCodeServer\\src\\serve_notebook.jl:19\n",
      "  [7] withpath(f::VSCodeServer.var\"#164#165\"{VSCodeServer.NotebookRunCellArguments, String}, path::String)\n",
      "    @ VSCodeServer c:\\Users\\detter55\\.vscode\\extensions\\julialang.language-julia-1.6.24\\scripts\\packages\\VSCodeServer\\src\\repl.jl:184\n",
      "  [8] notebook_runcell_request(conn::VSCodeServer.JSONRPC.JSONRPCEndpoint{Base.PipeEndpoint, Base.PipeEndpoint}, params::VSCodeServer.NotebookRunCellArguments)\n",
      "    @ VSCodeServer c:\\Users\\detter55\\.vscode\\extensions\\julialang.language-julia-1.6.24\\scripts\\packages\\VSCodeServer\\src\\serve_notebook.jl:13\n",
      "  [9] dispatch_msg(x::VSCodeServer.JSONRPC.JSONRPCEndpoint{Base.PipeEndpoint, Base.PipeEndpoint}, dispatcher::VSCodeServer.JSONRPC.MsgDispatcher, msg::Dict{String, Any})\n",
      "    @ VSCodeServer.JSONRPC c:\\Users\\detter55\\.vscode\\extensions\\julialang.language-julia-1.6.24\\scripts\\packages\\JSONRPC\\src\\typed.jl:67\n",
      " [10] serve_notebook(pipename::String, outputchannel_logger::Base.CoreLogging.SimpleLogger; crashreporting_pipename::String)\n",
      "    @ VSCodeServer c:\\Users\\detter55\\.vscode\\extensions\\julialang.language-julia-1.6.24\\scripts\\packages\\VSCodeServer\\src\\serve_notebook.jl:136\n",
      " [11] top-level scope\n",
      "    @ c:\\Users\\detter55\\.vscode\\extensions\\julialang.language-julia-1.6.24\\scripts\\notebook\\notebook.jl:32\n",
      " [12] include(mod::Module, _path::String)\n",
      "    @ Base .\\Base.jl:418\n",
      " [13] exec_options(opts::Base.JLOptions)\n",
      "    @ Base .\\client.jl:292\n",
      " [14] _start()\n",
      "    @ Base .\\client.jl:495"
     ]
    }
   ],
   "source": [
    "compute_source_index_and_lambda"
   ]
  },
  {
   "cell_type": "code",
   "execution_count": null,
   "metadata": {},
   "outputs": [],
   "source": []
  }
 ],
 "metadata": {
  "kernelspec": {
   "display_name": "Julia 1.7.3",
   "language": "julia",
   "name": "julia-1.7"
  },
  "language_info": {
   "file_extension": ".jl",
   "mimetype": "application/julia",
   "name": "julia",
   "version": "1.7.3"
  }
 },
 "nbformat": 4,
 "nbformat_minor": 4
}
