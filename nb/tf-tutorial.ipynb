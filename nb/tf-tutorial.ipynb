{
 "cells": [
  {
   "cell_type": "code",
   "execution_count": 1,
   "metadata": {},
   "outputs": [
    {
     "name": "stdout",
     "output_type": "stream",
     "text": [
      "test\n"
     ]
    }
   ],
   "source": [
    "println(\"test\")"
   ]
  },
  {
   "cell_type": "markdown",
   "metadata": {},
   "source": [
    "# Download Dataset"
   ]
  },
  {
   "cell_type": "code",
   "execution_count": null,
   "metadata": {},
   "outputs": [],
   "source": [
    "cd(\"../dataset\") do\n",
    "    run(`wget http://storage.googleapis.com/download.tensorflow.org/data/mini_speech_commands.zip`) \n",
    "    run(`unzip mini_speech_commands.zip`)\n",
    "end"
   ]
  },
  {
   "cell_type": "code",
   "execution_count": 8,
   "metadata": {},
   "outputs": [
    {
     "data": {
      "text/latex": [
       "\\section{Speech Commands dataset excerpt}\n",
       "This is a small excerpt of the \\href{https://ai.googleblog.com/2017/08/launching-speech-commands-dataset.html}{Speech Commands Dataset} for use in a tutorial on tensorflow.org. Please refer to the original [dataset](http://download.tensorflow.org/data/speech\\emph{commands}v0.01.tar.gz](http://download.tensorflow.org/data/speech\\emph{commands}v0.01.tar.gz) for documentation and license information.\"\"\"\n",
       "\n"
      ],
      "text/markdown": [
       "# Speech Commands dataset excerpt\n",
       "\n",
       "This is a small excerpt of the [Speech Commands Dataset](https://ai.googleblog.com/2017/08/launching-speech-commands-dataset.html) for use in a tutorial on tensorflow.org. Please refer to the original [dataset](http://download.tensorflow.org/data/speech*commands*v0.01.tar.gz](http://download.tensorflow.org/data/speech*commands*v0.01.tar.gz) for documentation and license information.\"\"\"\n"
      ],
      "text/plain": [
       "\u001b[1m  Speech Commands dataset excerpt\u001b[22m\n",
       "\u001b[1m  ≡≡≡≡≡≡≡≡≡≡≡≡≡≡≡≡≡≡≡≡≡≡≡≡≡≡≡≡≡≡≡≡≡\u001b[22m\n",
       "\n",
       "  This is a small excerpt of the Speech Commands Dataset\n",
       "  (https://ai.googleblog.com/2017/08/launching-speech-commands-dataset.html)\n",
       "  for use in a tutorial on tensorflow.org. Please refer to the original\n",
       "  [dataset](http://download.tensorflow.org/data/speech\u001b[4mcommands\u001b[24mv0.01.tar.gz](http://download.tensorflow.org/data/speech\u001b[4mcommands\u001b[24mv0.01.tar.gz)\n",
       "  for documentation and license information.\"\"\""
      ]
     },
     "metadata": {},
     "output_type": "display_data"
    }
   ],
   "source": [
    "using Markdown\n",
    "\n",
    "Markdown.parse_file(\"../dataset/mini_speech_commands/README.md\")"
   ]
  },
  {
   "cell_type": "code",
   "execution_count": 9,
   "metadata": {},
   "outputs": [
    {
     "data": {
      "text/plain": [
       "9-element Vector{String}:\n",
       " \"README.md\"\n",
       " \"down\"\n",
       " \"go\"\n",
       " \"left\"\n",
       " \"no\"\n",
       " \"right\"\n",
       " \"stop\"\n",
       " \"up\"\n",
       " \"yes\""
      ]
     },
     "metadata": {},
     "output_type": "display_data"
    }
   ],
   "source": [
    "readdir(\"../dataset/mini_speech_commands\")"
   ]
  },
  {
   "cell_type": "code",
   "execution_count": 10,
   "metadata": {},
   "outputs": [
    {
     "data": {
      "text/plain": [
       "1000-element Vector{String}:\n",
       " \"004ae714_nohash_0.wav\"\n",
       " \"00b01445_nohash_1.wav\"\n",
       " \"00f0204f_nohash_0.wav\"\n",
       " \"0132a06d_nohash_1.wav\"\n",
       " \"0132a06d_nohash_4.wav\"\n",
       " \"0137b3f4_nohash_2.wav\"\n",
       " \"014f9f65_nohash_0.wav\"\n",
       " \"016e2c6d_nohash_0.wav\"\n",
       " \"016e2c6d_nohash_2.wav\"\n",
       " \"01b4757a_nohash_0.wav\"\n",
       " ⋮\n",
       " \"fda46b78_nohash_1.wav\"\n",
       " \"fe291fa9_nohash_0.wav\"\n",
       " \"fe5c4a7a_nohash_1.wav\"\n",
       " \"feb1d305_nohash_0.wav\"\n",
       " \"feb1d305_nohash_1.wav\"\n",
       " \"ff21fb59_nohash_0.wav\"\n",
       " \"ff63ab0b_nohash_0.wav\"\n",
       " \"ffd2ba2f_nohash_0.wav\"\n",
       " \"ffd2ba2f_nohash_4.wav\""
      ]
     },
     "metadata": {},
     "output_type": "display_data"
    }
   ],
   "source": [
    "readdir(\"../dataset/mini_speech_commands/down\")"
   ]
  },
  {
   "cell_type": "code",
   "execution_count": null,
   "metadata": {},
   "outputs": [],
   "source": []
  }
 ],
 "metadata": {
  "kernelspec": {
   "display_name": "Julia 1.6.3",
   "language": "julia",
   "name": "julia-1.6"
  },
  "language_info": {
   "file_extension": ".jl",
   "mimetype": "application/julia",
   "name": "julia",
   "version": "1.6.3"
  },
  "orig_nbformat": 4
 },
 "nbformat": 4,
 "nbformat_minor": 2
}
